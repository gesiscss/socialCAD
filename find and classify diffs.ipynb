{
 "cells": [
  {
   "cell_type": "markdown",
   "id": "boring-inclusion",
   "metadata": {},
   "source": [
    "### Objectives\n",
    "\n",
    "Given an (original, counterfactual) pair, we want to find the difference between them. Here difference is defined as the tokens **added**, **deleted**, and **substituted**. With this information, we can find patterns in these differences based on the following typology:\n",
    "\n",
    "- construct-driven\n",
    "- construct-agnostic\n",
    "    - negation\n",
    "    - distancing: could be done via hedges from this [paper](https://www.aclweb.org/anthology/2020.lrec-1.380.pdf)\n",
    "    - sarcasm: very hard to get automatically"
   ]
  },
  {
   "cell_type": "code",
   "execution_count": null,
   "id": "applicable-cocktail",
   "metadata": {},
   "outputs": [],
   "source": [
    "import difflib\n",
    "import pandas as pd\n",
    "import string"
   ]
  },
  {
   "cell_type": "code",
   "execution_count": null,
   "id": "pleasant-demonstration",
   "metadata": {},
   "outputs": [],
   "source": [
    "DATA_ROOT = 'DATAROOT'\n",
    "constructs = ['sentiment', 'sexism', 'hatespeech']"
   ]
  },
  {
   "cell_type": "code",
   "execution_count": null,
   "id": "electric-groove",
   "metadata": {},
   "outputs": [],
   "source": [
    "# initiate the Differ object\n",
    "d = difflib.Differ()\n",
    "\n",
    "# calculate the difference between the two texts\n",
    "diff = d.compare(original.split(), edited.split())\n",
    "\n",
    "additions = []\n",
    "deletions = []\n",
    "for token in diff:\n",
    "    print(token)\n",
    "    if token.startswith(\"+\"):\n",
    "        additions.append(token[2:])\n",
    "    if token.startswith(\"-\"):\n",
    "        deletions.append(token[2:])\n",
    "        \n",
    "additions, deletions   "
   ]
  },
  {
   "cell_type": "code",
   "execution_count": null,
   "id": "smaller-structure",
   "metadata": {},
   "outputs": [],
   "source": [
    "def find_diff(original, edited):\n",
    "    \"\"\"\n",
    "    given a pair of sentences, return the tokens that have been changed (subsituted, added, or deleted)\n",
    "    \"\"\"\n",
    "    result = {}\n",
    "    \n",
    "#     result['original'] = original\n",
    "#     result['counterfactual'] = edited\n",
    "    \n",
    "    d = difflib.Differ()\n",
    "    \n",
    "    original = original.translate(str.maketrans('', '', string.punctuation))\n",
    "    edited = edited.translate(str.maketrans('', '', string.punctuation))\n",
    "\n",
    "    # calculate the difference between the two texts\n",
    "    diff = d.compare(original.split(), edited.split())\n",
    "\n",
    "    # output the result\n",
    "    additions = []\n",
    "    deletions = []\n",
    "    for token in diff:\n",
    "        # additions\n",
    "        if token.startswith(\"+\"):\n",
    "            additions.append(token[2:])\n",
    "        if token.startswith(\"-\"):\n",
    "            deletions.append(token[2:])\n",
    "        \n",
    "    result['additions'] = additions\n",
    "    result['deletions'] = deletions   \n",
    "    \n",
    "    return result\n",
    "    "
   ]
  },
  {
   "cell_type": "markdown",
   "id": "tired-information",
   "metadata": {},
   "source": [
    "### Generate diffs\n",
    "\n",
    "For all constructs, the paired data is saved as a csv with the following fields:\n",
    "- original_id\n",
    "- counterfactual_id\n",
    "- original_text \t\n",
    "- counterfactual_text \t\n",
    "- original_label \t\n",
    "- counterfactual_label\n",
    "\n",
    "Augment this with the diff field which will be a dictionary with addition and deletion keywords"
   ]
  },
  {
   "cell_type": "code",
   "execution_count": null,
   "id": "quarterly-movie",
   "metadata": {},
   "outputs": [],
   "source": [
    "import ast\n",
    "\n",
    "def generate_diffs(construct):\n",
    "    data = pd.read_csv(\"../../data/data/%s/train/paired.csv\" %(construct), sep = \"\\t\")\n",
    "    #print(data.head())\n",
    "    data['diff'] = [find_diff(row['original_text'], row['counterfactual_text']) for n, row in data.iterrows()]\n",
    "    data.to_csv(\"../../data/data/%s/train/paired.csv\" %(construct), sep = \"\\t\", index = False)\n",
    "    \n",
    "    return data\n",
    "\n",
    "data = {}\n",
    "\n",
    "for construct in constructs:\n",
    "    #run once, save, and load\n",
    "    #data[construct] = generate_diffs(construct)\n",
    "    data[construct] = pd.read_csv(\"../../data/data/%s/train/paired.csv\" %(construct), sep = \"\\t\")\n",
    "    data[construct]['diff'] = [ast.literal_eval(i) for i in data[construct]['diff']]"
   ]
  },
  {
   "cell_type": "markdown",
   "id": "minimal-accounting",
   "metadata": {},
   "source": [
    "### Use lexicons to categorize diffs"
   ]
  },
  {
   "cell_type": "code",
   "execution_count": null,
   "id": "actual-interview",
   "metadata": {},
   "outputs": [],
   "source": [
    "import pickle\n",
    "\n",
    "# with open('../../data/lexica/lexica.pkl', 'wb') as handle:\n",
    "#     pickle.dump(lexicons, handle, protocol=pickle.HIGHEST_PROTOCOL)\n",
    "\n",
    "with open('../../data/lexica/lexica.pkl', 'rb') as handle:\n",
    "    lexicons = pickle.load(handle)\n",
    "\n",
    "diff_types = lexicons.keys()\n",
    "directions = ['additions', 'deletions']\n",
    "\n",
    "# combine hate and identity words\n",
    "lexicons['hate words'].extend(lexicons['identity word'])\n",
    "\n",
    "lexicons.keys()"
   ]
  },
  {
   "cell_type": "code",
   "execution_count": null,
   "id": "enhanced-billion",
   "metadata": {},
   "outputs": [],
   "source": [
    "diff = find_diff(\"I find [group] abhorrent\", \"I shouldn't find [group] abhorrent\")"
   ]
  },
  {
   "cell_type": "code",
   "execution_count": null,
   "id": "cardiac-australia",
   "metadata": {},
   "outputs": [],
   "source": [
    "# diff types are negation, affect word / sentiment flip, gender word change, identity word change \n",
    "def classify_diff(diff, direction = 'additions', diff_type = 'negation'):\n",
    "#     print(diff)\n",
    "#     print(set(lexicons[diff_type]))\n",
    "    print(diff[direction])\n",
    "    if len(set(diff[direction]).intersection(set(lexicons[diff_type]))) > 0:\n",
    "        return True\n",
    "    return False"
   ]
  },
  {
   "cell_type": "code",
   "execution_count": null,
   "id": "loose-fifty",
   "metadata": {},
   "outputs": [],
   "source": [
    "classify_diff(diff, diff_type = 'negation')"
   ]
  },
  {
   "cell_type": "code",
   "execution_count": null,
   "id": "flush-suite",
   "metadata": {},
   "outputs": [],
   "source": [
    "for construct in constructs:\n",
    "    for diff_type in diff_types:\n",
    "        for direction in directions:\n",
    "            data[construct][diff_type + \"_\" + direction] = [classify_diff(row['diff'], direction, diff_type)\n",
    "                                                           for n, row in data[construct].iterrows()]\n",
    "\n",
    "            \n",
    "data['sentiment']            "
   ]
  },
  {
   "cell_type": "code",
   "execution_count": null,
   "id": "understanding-lucas",
   "metadata": {},
   "outputs": [],
   "source": [
    "#classify once and save\n",
    "# for construct in constructs:\n",
    "#     data[construct].to_csv(\"../../data/data/%s/train/paired.csv\" %(construct), sep = \"\\t\", index= False)"
   ]
  },
  {
   "cell_type": "code",
   "execution_count": null,
   "id": "colonial-beauty",
   "metadata": {},
   "outputs": [],
   "source": [
    "data = {}\n",
    "for construct in constructs:\n",
    "    data[construct] = pd.read_csv(\"../../data/data/%s/train/paired.csv\" %(construct), sep = \"\\t\")"
   ]
  },
  {
   "cell_type": "code",
   "execution_count": null,
   "id": "iraqi-spokesman",
   "metadata": {},
   "outputs": [],
   "source": [
    "types = ['negation_additions',\n",
    "       'negation_deletions', 'affect word_additions', 'affect word_deletions',\n",
    "       'gender word_additions', 'gender word_deletions',\n",
    "       'identity word_additions', 'identity word_deletions',\n",
    "        'hedges_additions', 'hedges_deletions',\n",
    "        'hate words_additions', 'hate words_deletions']"
   ]
  },
  {
   "cell_type": "code",
   "execution_count": null,
   "id": "running-dividend",
   "metadata": {},
   "outputs": [],
   "source": [
    "dist_dict = {}\n",
    "dist_list = []\n",
    "\n",
    "for construct in constructs:\n",
    "    df = data[construct]\n",
    "    dist_dict = {}\n",
    "    dist_dict['construct'] = construct\n",
    "    dist_dict['total'] = len(df)\n",
    "    total = len(df)\n",
    "    print(\"total examples of \" + construct + \": \" + str(total))\n",
    "    for diff_type in types:\n",
    "        dist_dict[diff_type] = len(df[df[diff_type] == True])/total\n",
    "        print(diff_type + \": \" + str(len(df[df[diff_type] == True])/total))\n",
    "    print()\n",
    "    dist_list.append(dist_dict)"
   ]
  },
  {
   "cell_type": "code",
   "execution_count": null,
   "id": "active-meter",
   "metadata": {},
   "outputs": [],
   "source": [
    "print(pd.DataFrame(dist_list).round(3).to_latex())"
   ]
  }
 ],
 "metadata": {
  "kernelspec": {
   "display_name": "Python [conda env:py36] *",
   "language": "python",
   "name": "conda-env-py36-py"
  },
  "language_info": {
   "codemirror_mode": {
    "name": "ipython",
    "version": 3
   },
   "file_extension": ".py",
   "mimetype": "text/x-python",
   "name": "python",
   "nbconvert_exporter": "python",
   "pygments_lexer": "ipython3",
   "version": "3.6.10"
  }
 },
 "nbformat": 4,
 "nbformat_minor": 5
}
